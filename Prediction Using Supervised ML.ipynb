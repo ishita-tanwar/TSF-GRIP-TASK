{
 "cells": [
  {
   "cell_type": "markdown",
   "metadata": {},
   "source": [
    "# Importing modules"
   ]
  },
  {
   "cell_type": "code",
   "execution_count": 2,
   "metadata": {},
   "outputs": [],
   "source": [
    "#Importing various modules required in the model creation and graphing\n",
    "import pandas as pd\n",
    "import numpy as np\n",
    "import matplotlib.pyplot as plt\n",
    "from scipy import stats\n",
    "import seaborn as sb"
   ]
  },
  {
   "cell_type": "markdown",
   "metadata": {},
   "source": [
    "# Importing raw data"
   ]
  },
  {
   "cell_type": "code",
   "execution_count": 3,
   "metadata": {},
   "outputs": [
    {
     "name": "stdout",
     "output_type": "stream",
     "text": [
      "   Hours  Scores\n",
      "0    2.5      21\n",
      "1    5.1      47\n",
      "2    3.2      27\n",
      "3    8.5      75\n",
      "4    3.5      30\n",
      "5    1.5      20\n",
      "6    9.2      88\n",
      "7    5.5      60\n",
      "8    8.3      81\n",
      "9    2.7      25\n",
      "\n",
      "\n",
      "\n",
      "***************************\n",
      "\n",
      "           Hours     Scores\n",
      "count  25.000000  25.000000\n",
      "mean    5.012000  51.480000\n",
      "std     2.525094  25.286887\n",
      "min     1.100000  17.000000\n",
      "25%     2.700000  30.000000\n",
      "50%     4.800000  47.000000\n",
      "75%     7.400000  75.000000\n",
      "max     9.200000  95.000000\n",
      "\n",
      "***************************\n",
      "\n"
     ]
    }
   ],
   "source": [
    "#Reading the csv into a dataframe\n",
    "url = \"https://raw.githubusercontent.com/AdiPersonalWorks/Random/master/student_scores%20-%20student_scores.csv\"\n",
    "df=pd.read_csv(url)\n",
    "print(df.head(10))\n",
    "print(\"\\n\")\n",
    "#Observing statistical values\n",
    "print(\"\\n***************************\\n\")\n",
    "print(df.describe())\n",
    "print(\"\\n***************************\\n\")"
   ]
  },
  {
   "cell_type": "code",
   "execution_count": 4,
   "metadata": {},
   "outputs": [],
   "source": [
    "'''\n",
    "iloc for reading hours(independent) and scores(dependent) variables into arrays\n",
    "Reading data into X and Y variables.\n",
    "Now the array is of 2 dimension as the scikitlearn expects the array with a 2 dimension\n",
    "'''\n",
    "X=df.iloc[:,:-1].values\n",
    "Y=df.iloc[:,1].values"
   ]
  },
  {
   "cell_type": "markdown",
   "metadata": {},
   "source": [
    "# Assumptions of a SLR model"
   ]
  },
  {
   "cell_type": "code",
   "execution_count": 5,
   "metadata": {},
   "outputs": [
    {
     "name": "stdout",
     "output_type": "stream",
     "text": [
      "Assumption 1 is a pass\n",
      "No missing values\n",
      "No missing values\n",
      "Assumption 2 is a pass\n"
     ]
    }
   ],
   "source": [
    "'''\n",
    "Before selecting SLR model, we need to check for assumptions\n",
    "**********************************\n",
    "Assumption 1 of Simple Linear Regression\n",
    "1. The 2 variables X and Y need to be continous numeric, NOT categorical.\n",
    "**********************************\n",
    "'''\n",
    "# By Inspecting the 2 variables X and Y, both are continous and Numeric\n",
    "# Assumption 1 PASS\n",
    "print(\"Assumption 1 is a pass\")\n",
    "\n",
    "'''\n",
    "**********************************\n",
    "Assumption 2 of Simple Linear Regression\n",
    "2. Data is free of Missing values,\n",
    "if missing values are there MVT(Missing Value Treatment) need to be performed.\n",
    "\n",
    "Below user-defined function checks for the missing values\n",
    "\n",
    "**********************************\n",
    "'''\n",
    "def missing_counter(Y):\n",
    "    if np.count_nonzero(~np.isnan(Y))==len(Y):\n",
    "        print (\"No missing values\")\n",
    "    else:\n",
    "        print(\"Missing value count is\",len(Y)-np.count_nonzero(~np.isnan(Y)), \"out of\" ,len(Y))\n",
    "    \n",
    "missing_counter(Y)\n",
    "missing_counter(X)\n",
    "\n",
    "# Assumption 2 PASS\n",
    "print(\"Assumption 2 is a pass\")"
   ]
  },
  {
   "cell_type": "code",
   "execution_count": 6,
   "metadata": {},
   "outputs": [
    {
     "name": "stdout",
     "output_type": "stream",
     "text": [
      "1.756539409843663\n",
      "Assumption 3 is a pass\n"
     ]
    }
   ],
   "source": [
    "'''\n",
    "**********************************\n",
    "Assumption 3 of Simple Linear Regression\n",
    "3. Data is free of outliers.\n",
    "If the value of -1.96 < z < 1.96 there are no outliers\n",
    "\n",
    "**********************************\n",
    "'''\n",
    "#np.abs is required as the z scores are negative as well\n",
    "z = max(np.abs(stats.zscore(Y)))\n",
    "print(z)\n",
    "\n",
    "# Assumption 3 PASS\n",
    "print(\"Assumption 3 is a pass\")"
   ]
  },
  {
   "cell_type": "code",
   "execution_count": 13,
   "metadata": {},
   "outputs": [
    {
     "name": "stdout",
     "output_type": "stream",
     "text": [
      "Correlation Coefficient : \n",
      " [[1.         0.97619066]\n",
      " [0.97619066 1.        ]]\n",
      "Covariance :            Hours      Scores\n",
      "Hours    6.3761   62.331500\n",
      "Scores  62.3315  639.426667\n",
      "Assumption 4 is a pass\n"
     ]
    },
    {
     "data": {
      "image/png": "[encoded data removed]",
      "text/plain": [
       "<Figure size 360x360 with 6 Axes>"
      ]
     },
     "metadata": {
      "needs_background": "light"
     },
     "output_type": "display_data"
    }
   ],
   "source": [
    "'''\n",
    "**********************************\n",
    "Assumption 4 of Simple Linear Regression\n",
    "4. Linear relationship between X and Y\n",
    "Correlation and covariabce would give the direction and the idea about linearity\n",
    "**********************************\n",
    "'''\n",
    "x=df['Hours'].values\n",
    "y=df['Scores'].values\n",
    "print(\"Correlation Coefficient : \\n\", np.corrcoef(x,y))\n",
    "print(\"Covariance : \", df.cov())\n",
    "sb.pairplot(df)\n",
    "# Assumption 4 PASS as the relationship seems to be strongly linear and corr and cov are positive\n",
    "print(\"Assumption 4 is a pass\")"
   ]
  },
  {
   "cell_type": "code",
   "execution_count": 8,
   "metadata": {},
   "outputs": [
    {
     "name": "stdout",
     "output_type": "stream",
     "text": [
      "Assumption/suggestion 5 is a pass\n"
     ]
    }
   ],
   "source": [
    "'''\n",
    "**********************************\n",
    "Assumption/suggestion 5 of Simple Linear Regression\n",
    "5. Depending on the case/business need, data should be split into TRAIN and TEST\n",
    "**********************************\n",
    "'''\n",
    "# Assumption 5 PASS and we are splitting data, as per the problem\n",
    "print(\"Assumption/suggestion 5 is a pass\")"
   ]
  },
  {
   "cell_type": "markdown",
   "metadata": {},
   "source": [
    "# Creating SLR Model"
   ]
  },
  {
   "cell_type": "code",
   "execution_count": 9,
   "metadata": {},
   "outputs": [],
   "source": [
    "'''\n",
    "***************************************************************************************\n",
    "***************************************************************************************\n",
    "***************************************************************************************\n",
    "Carrying on with Simple Linear Regression\n",
    "***************************************************************************************\n",
    "***************************************************************************************\n",
    "***************************************************************************************\n",
    "'''\n",
    "#splitting data into training and test sets\n",
    "#Note that it would need 4 parameters in the same train and test sequence\n",
    "#train_test_split is a function in the model_selection module\n",
    "#X and Y are the arrays that we created above using iloc\n",
    "#test_size=1/3 so train_size=2/3 as per usual norm\n",
    "#random_state=0 is the seed value for replicating the results, we hardcode it for replicating the results\n",
    "#The train and test would now have random values, this removes any data bias and let go of data inbuilt patterns\n",
    "\n",
    "from sklearn.model_selection import train_test_split\n",
    "X_train,X_test,Y_train,Y_test=train_test_split(X,Y,test_size=1/3,random_state=0)"
   ]
  },
  {
   "cell_type": "code",
   "execution_count": 10,
   "metadata": {},
   "outputs": [],
   "source": [
    "#we import the LinearRegression class\n",
    "#reg is simply a linear regressor object and LinearRegression is a class, reg is an instance of class \n",
    "#fit is a method available in LinearRegression class, this now creates a best line fit based on X and Y\n",
    "#At this point the machine learning model is ready and the best fit line is in place\n",
    "#this reg object can now be called with predict method for predicting value of an array or single value\n",
    "#You cannot call the predict method if the object reg is not trained using the fit method\n",
    "#Y_predict are the predicted scores and Y_test are actuals, you can compare them to see the model's performance\n",
    "#creating y_predict to match with Y_test, y_predict is created with X_test \n",
    "#In summary we are trying to predict y with test x and match against test y for the accuracy of the model\n",
    "from sklearn.linear_model import LinearRegression\n",
    "reg=LinearRegression()\n",
    "reg.fit(X_train,Y_train)\n",
    "Y_predict=reg.predict(X_test)"
   ]
  },
  {
   "cell_type": "code",
   "execution_count": 11,
   "metadata": {},
   "outputs": [
    {
     "name": "stdout",
     "output_type": "stream",
     "text": [
      "[9.69062469]\n",
      "2.5069547569547623\n"
     ]
    }
   ],
   "source": [
    "''''\n",
    "We can use the attributes associates to the reg object and can print to get many values\n",
    "Equation of a simple liner regression line is : y=ax+b\n",
    "where,\n",
    "a is the coefficient of x or slope\n",
    "b is the y intercept\n",
    "'''\n",
    "print(reg.coef_) #Nothing but the coeffecient of X or the SLOPE\n",
    "print(reg.intercept_) # Nothing but the y intercept\n",
    "#Equation now becomes : 9.69x+2.50 = y\n",
    "#This can be used for predicting y values (scores) manually by putting value of x (hours)"
   ]
  },
  {
   "cell_type": "markdown",
   "metadata": {},
   "source": [
    "# Predicting Value by model created"
   ]
  },
  {
   "cell_type": "code",
   "execution_count": 12,
   "metadata": {},
   "outputs": [
    {
     "name": "stdout",
     "output_type": "stream",
     "text": [
      "[92.14523315]\n",
      "\n",
      "If a student studies for 9.25hrs, he is predicted to score 92.14\n",
      "\n"
     ]
    }
   ],
   "source": [
    "#We are now trying to forecast, as per question what would be the score if the student studies for 9.25hrs/day\n",
    "# predict is a method in LinearRegression class that helps in prediction based on trained model\n",
    "#we are passing satic value of 9.25hrs/day\n",
    "\n",
    "Y_predict_val=reg.predict(np.array(9.25).reshape(1,1))\n",
    "print(Y_predict_val)\n",
    "print(\"\\nIf a student studies for 9.25hrs, he is predicted to score 92.14\\n\")\n",
    "\n",
    "#Equation of SLR model : 9.69x+2.50 = y\n",
    "#Checking value manually : 9.69 * (9.25) +2.50 = 92.1325\n",
    "#This value is very close to the value predicted by the model (92.145)"
   ]
  },
  {
   "cell_type": "markdown",
   "metadata": {},
   "source": [
    "# Visualizing test and train data"
   ]
  },
  {
   "cell_type": "code",
   "execution_count": 14,
   "metadata": {},
   "outputs": [
    {
     "data": {
      "image/png": "[encoded data removed]",
      "text/plain": [
       "<Figure size 432x288 with 1 Axes>"
      ]
     },
     "metadata": {
      "needs_background": "light"
     },
     "output_type": "display_data"
    }
   ],
   "source": [
    "#Implement the scatter line graph with X and Y train data\n",
    "#Plotting the regression line with X and predicted Y on X train\n",
    "#Basically creating line for X_train and predicted values from training data frame\n",
    "# scatter is a function from plt\n",
    "#in plt.plot the x is X_train and Y is predicted values of X_train or this is our y(hat), Y_train are the observed points\n",
    "plt.scatter(X_train,Y_train,color='red',label=\"Scatter data\")\n",
    "plt.plot(X_train,reg.predict(X_train),c='green',label=\"Reg line\")\n",
    "#Giving title to the plot for making it look better, also giving labels to X and Y axis\n",
    "plt.title('Hours and the Scores predictions for train data')\n",
    "plt.xlabel('No. of study hours')\n",
    "plt.ylabel('Scores Obtained')\n",
    "plt.legend()\n",
    "plt.show()  "
   ]
  },
  {
   "cell_type": "code",
   "execution_count": 15,
   "metadata": {},
   "outputs": [
    {
     "data": {
      "image/png": "[encoded data removed]",
      "text/plain": [
       "<Figure size 432x288 with 1 Axes>"
      ]
     },
     "metadata": {
      "needs_background": "light"
     },
     "output_type": "display_data"
    }
   ],
   "source": [
    "#Creating the plot for test data, very similar to the above graph\n",
    "# we wish to keep the regression line as same, as this is the model line\n",
    "plt.scatter(X_test,Y_test,color='red',label=\"Scatter data\")\n",
    "plt.plot(X_test,reg.predict(X_test),c='purple',label=\"Reg line\")\n",
    "#Giving title to the plot for making it look better, also giving labels to X and Y axis\n",
    "plt.title('Scores and the Hours predictions for test data ')\n",
    "plt.xlabel('No. of study hours')\n",
    "plt.ylabel('Scores Obtained')\n",
    "plt.legend()\n",
    "plt.show()  "
   ]
  },
  {
   "cell_type": "markdown",
   "metadata": {},
   "source": [
    "# Checking accuracy of the model"
   ]
  },
  {
   "cell_type": "code",
   "execution_count": 16,
   "metadata": {},
   "outputs": [
    {
     "name": "stdout",
     "output_type": "stream",
     "text": [
      "MAE :  4.691397441397438\n",
      "MSE :  25.463280738222547\n",
      "Final rmse value is : 5.046115410711743\n",
      "RMSE (another way) :  5.046115410711743\n",
      "R-square value :  0.9501107277744313\n"
     ]
    }
   ],
   "source": [
    "#Model Evaluation\n",
    "'''\n",
    "There are three primary metrics used to evaluate linear models. \n",
    "These are: Mean absolute error (MAE), Mean squared error (MSE), or Root mean squared error (RMSE).\n",
    "1. MAE: The easiest to understand. Represents average error\n",
    "2. MSE: Similar to MAE but noise is exaggerated and larger errors are “punished”. \n",
    "It is harder to interpret than MAE as it’s not in base units, however, it is generally more popular.\n",
    "3. RMSE: Most popular metric, similar to MSE, however, the result is square rooted \n",
    "to make it more interpretable as it’s in base units. It is recommended that RMSE \n",
    "be used as the primary metric to interpret your model.\n",
    "4. R2 or R square (value lies between 0-1 or 0%-100%). The larger the value, better the model prediction\n",
    "*******************************************************************************************\n",
    "Below, we calculate each metric. \n",
    "All of them require two lists as parameters, with one being our \n",
    "predicted values and the other being the test or true or actual values in the data\n",
    "'''\n",
    "from sklearn import metrics\n",
    "\n",
    "#1. Result for MAE (Mean Absolute Error) >> The formula is avg(|y-yhat|)\n",
    "print(\"MAE : \",metrics.mean_absolute_error(Y_test,Y_predict))\n",
    "\n",
    "#2. Result for MSE (Mean Squared Error) >> The formula is avg(|(y-yhat)**2|)\n",
    "print(\"MSE : \",metrics.mean_squared_error(Y_test,Y_predict))\n",
    "\n",
    "#3. Let's calculate the RMSE from scartch, RMSE is also a measure of the goodness of fit of a model.\n",
    "#The model is predicting scores to a good extent\n",
    "rss=((Y_test-Y_predict)**2).sum() #residual sum of squares or the SSE (Sum squared errors)..just like Variance\n",
    "mse=np.mean((Y_test-Y_predict)**2) #mean square error just like the standdard deviation or sigma\n",
    "print(f\"Final rmse value is : {np.sqrt(mse)}\")\n",
    "\n",
    "#3.1 Another way for RMSE, check from above calculation, the values match\n",
    "print(\"RMSE (another way) : \",np.sqrt(metrics.mean_squared_error(Y_test,Y_predict)))\n",
    "\n",
    "#4. Calculating the R square and printing it for the goodness of fit, it comes out to be 95.01%\n",
    "#The variation that can be explained by this model is 95.01%\n",
    "#reg is the LinearRegression() object\n",
    "r2_score=reg.score(X_train,Y_train)\n",
    "print(\"R-square value : \",r2_score) "
   ]
  }
 ],
 "metadata": {
  "kernelspec": {
   "display_name": "Python 3",
   "language": "python",
   "name": "python3"
  },
  "language_info": {
   "codemirror_mode": {
    "name": "ipython",
    "version": 3
   },
   "file_extension": ".py",
   "mimetype": "text/x-python",
   "name": "python",
   "nbconvert_exporter": "python",
   "pygments_lexer": "ipython3",
   "version": "3.8.5"
  }
 },
 "nbformat": 4,
 "nbformat_minor": 2
}
